{
 "cells": [
  {
   "cell_type": "code",
   "execution_count": 1,
   "metadata": {},
   "outputs": [],
   "source": [
    "import os\n",
    "import boto3\n",
    "import json\n",
    "from botocore.exceptions import ClientError\n",
    "from dotenv import load_dotenv\n",
    "load_dotenv()\n",
    "\n",
    "AWS_ACCESS_KEY_ID=os.getenv(\"AWS_ACCESS_KEY_ID\")\n",
    "YOUR_SECRET_ACCESS_KEY=os.getenv(\"AWS_ACCESS_KEY_SECRET\")"
   ]
  },
  {
   "cell_type": "code",
   "execution_count": 2,
   "metadata": {},
   "outputs": [],
   "source": [
    "import boto3\n",
    "import json\n",
    "\n",
    "# Create a Bedrock Runtime client in the AWS Region of your choice.\n",
    "client = boto3.client(\n",
    "    \"bedrock-agent-runtime\", \n",
    "    region_name=\"us-east-1\",\n",
    "    aws_access_key_id=AWS_ACCESS_KEY_ID,\n",
    "    aws_secret_access_key=YOUR_SECRET_ACCESS_KEY,\n",
    ")\n"
   ]
  },
  {
   "cell_type": "code",
   "execution_count": null,
   "metadata": {},
   "outputs": [],
   "source": [
    "# # Set the model ID, e.g., Llama 3 8b Instruct.\n",
    "# model_id = \"meta.llama3-8b-instruct-v1:0\""
   ]
  },
  {
   "cell_type": "code",
   "execution_count": 3,
   "metadata": {},
   "outputs": [],
   "source": [
    "agentId=\"80OBUFCZVY\"\n",
    "agentAliasId=\"DB3APGS6J1\",\n",
    "sessionId=\"d244aa5e-0c51-44cf-ab6b-64ff2c5b8452\""
   ]
  },
  {
   "cell_type": "code",
   "execution_count": 21,
   "metadata": {},
   "outputs": [],
   "source": []
  },
  {
   "cell_type": "code",
   "execution_count": 16,
   "metadata": {},
   "outputs": [],
   "source": [
    "\n",
    "def invoke_agent(self, agent_id, agent_alias_id, session_id, prompt):\n",
    "    \"\"\"\n",
    "    Sends a prompt for the agent to process and respond to.\n",
    "\n",
    "    :param agent_id: The unique identifier of the agent to use.\n",
    "    :param agent_alias_id: The alias of the agent to use.\n",
    "    :param session_id: The unique identifier of the session. Use the same value across requests\n",
    "                        to continue the same conversation.\n",
    "    :param prompt: The prompt that you want Claude to complete.\n",
    "    :return: Inference response from the model.\n",
    "    \"\"\"\n",
    "\n",
    "    try:\n",
    "        # Note: The execution time depends on the foundation model, complexity of the agent,\n",
    "        # and the length of the prompt. In some cases, it can take up to a minute or more to\n",
    "        # generate a response.\n",
    "        response = self.agents_runtime_client.invoke_agent(\n",
    "            agentId=agent_id,\n",
    "            agentAliasId=agent_alias_id,\n",
    "            sessionID=session_id,\n",
    "            inputText=prompt\n",
    "        )\n",
    "\n",
    "        completion = \"\"\n",
    "\n",
    "        for event in response.get(\"completion\"):\n",
    "            chunk = event[\"chunk\"]\n",
    "            completion = completion + chunk[\"bytes\"].decode()\n",
    "\n",
    "    except ClientError as e:\n",
    "        logger.error(f\"Couldn't invoke agent. {e}\")\n",
    "        raise\n",
    "\n",
    "    return completion\n",
    "\n",
    "\n"
   ]
  },
  {
   "cell_type": "code",
   "execution_count": 17,
   "metadata": {},
   "outputs": [],
   "source": [
    "response = client.invoke_agent(\n",
    "    agentId=\"80OBUFCZVY\",\n",
    "    agentAliasId=\"DB3APGS6J1\",\n",
    "    enableTrace=False,\n",
    "    endSession=False,\n",
    "    inputText='I feel sad',\n",
    "    sessionId=\"d244aa5e-0c51-44cf-ab6b-64ff2c5b8452\",\n",
    "    sessionState={\n",
    "        'invocationId': '9789c702-f9da-49d1-aeaa-d4a527da6d57',\n",
    "    }\n",
    ")"
   ]
  },
  {
   "cell_type": "code",
   "execution_count": 9,
   "metadata": {},
   "outputs": [
    {
     "data": {
      "text/plain": [
       "{'ResponseMetadata': {'RequestId': '6ef0bcc1-5335-4e99-8651-62fb044d5f32',\n",
       "  'HTTPStatusCode': 200,\n",
       "  'HTTPHeaders': {'date': 'Tue, 09 Jul 2024 12:51:23 GMT',\n",
       "   'content-type': 'application/json',\n",
       "   'transfer-encoding': 'chunked',\n",
       "   'connection': 'keep-alive',\n",
       "   'x-amzn-requestid': '6ef0bcc1-5335-4e99-8651-62fb044d5f32',\n",
       "   'x-amz-bedrock-agent-session-id': 'd244aa5e-0c51-44cf-ab6b-64ff2c5b8452',\n",
       "   'x-amzn-bedrock-agent-content-type': 'application/json'},\n",
       "  'RetryAttempts': 0},\n",
       " 'contentType': 'application/json',\n",
       " 'sessionId': 'd244aa5e-0c51-44cf-ab6b-64ff2c5b8452',\n",
       " 'completion': <botocore.eventstream.EventStream at 0x7f33f5c08b30>}"
      ]
     },
     "execution_count": 9,
     "metadata": {},
     "output_type": "execute_result"
    }
   ],
   "source": [
    "response"
   ]
  },
  {
   "cell_type": "code",
   "execution_count": 20,
   "metadata": {},
   "outputs": [
    {
     "name": "stdout",
     "output_type": "stream",
     "text": [
      "Agent's response: I'm sorry to hear you are feeling sad. It's understandable to feel that way sometimes. Here are some things that may help lift your mood:\n",
      "\n",
      "Doing activities you enjoy, going for a walk, getting exercise, and spending time with people you care about. Relaxation techniques like yoga or meditation could help too. \n",
      "\n",
      "I hope those give you some ideas. Please let me know if you need any other suggestions for coping with sadness. I'm here to listen and provide support.\n"
     ]
    }
   ],
   "source": [
    "completion = \"\"\n",
    "for event in response.get(\"completion\"):\n",
    "    chunk = event[\"chunk\"]\n",
    "    completion += chunk[\"bytes\"].decode()\n",
    "\n",
    "print(\"Agent's response:\", completion)"
   ]
  },
  {
   "cell_type": "code",
   "execution_count": null,
   "metadata": {},
   "outputs": [],
   "source": [
    "import json\n",
    "import boto3\n",
    "\n",
    "def lambda_handler(event, context):\n",
    "    client = boto3.client(\n",
    "    \"bedrock-agent-runtime\", \n",
    "    region_name=\"us-east-1\",\n",
    "    )\n",
    "    \n",
    "    response = client.invoke_agent(\n",
    "    agentId=\"80OBUFCZVY\",\n",
    "    agentAliasId=\"DB3APGS6J1\",\n",
    "    enableTrace=False,\n",
    "    endSession=False,\n",
    "    inputText='I feel sad',\n",
    "    sessionId=\"d244aa5e-0c51-44cf-ab6b-64ff2c5b8452\",\n",
    "    sessionState={\n",
    "        'invocationId': '9789c702-f9da-49d1-aeaa-d4a527da6d57',\n",
    "        }\n",
    "    )\n",
    "    \n",
    "    completion = \"\"\n",
    "    for event in response.get(\"completion\"):\n",
    "        chunk = event[\"chunk\"]\n",
    "        completion += chunk[\"bytes\"].decode()\n",
    "        \n",
    "    return {\n",
    "        'statusCode': 200,\n",
    "        'body': \"Agent's response:\" + completion\n",
    "    }"
   ]
  },
  {
   "cell_type": "code",
   "execution_count": 1,
   "metadata": {},
   "outputs": [],
   "source": [
    "# last version with gateway\n",
    "#Gateway HHP API -> improved like rawPath: \"/conversation\"\n",
    "# body {json}\n",
    "# \\\"message\\\" : \\\"your text\\\"\n",
    "\n",
    "import json\n",
    "import boto3\n",
    "\n",
    "def lambda_handler(event, context):\n",
    "    client = boto3.client(\n",
    "    \"bedrock-agent-runtime\", \n",
    "    region_name=\"us-east-1\",\n",
    "    )\n",
    "    \n",
    "    \n",
    "    body = event.get('body', '{}')\n",
    "    try:\n",
    "        parsed_body = json.loads(body)\n",
    "    except json.JSONDecodeError:\n",
    "        parsed_body = {}\n",
    "    \n",
    "    response = client.invoke_agent(\n",
    "        agentId=\"80OBUFCZVY\",\n",
    "        agentAliasId=\"DB3APGS6J1\",\n",
    "        enableTrace=False,\n",
    "        endSession=False,\n",
    "        inputText=parsed_body['message'],\n",
    "        sessionId=\"d244aa5e-0c51-44cf-ab6b-64ff2c5b8452\",\n",
    "    )\n",
    "    \n",
    "    \n",
    "    completion = \"\"\n",
    "    for event in response.get(\"completion\"):\n",
    "        chunk = event[\"chunk\"]\n",
    "        completion += chunk[\"bytes\"].decode()\n",
    "        \n",
    "        \n",
    "    return {\n",
    "        'statusCode': 200,\n",
    "        'body': \"Agent's response:\" + completion\n",
    "    }"
   ]
  }
 ],
 "metadata": {
  "kernelspec": {
   "display_name": "aws",
   "language": "python",
   "name": "python3"
  },
  "language_info": {
   "codemirror_mode": {
    "name": "ipython",
    "version": 3
   },
   "file_extension": ".py",
   "mimetype": "text/x-python",
   "name": "python",
   "nbconvert_exporter": "python",
   "pygments_lexer": "ipython3",
   "version": "3.12.4"
  }
 },
 "nbformat": 4,
 "nbformat_minor": 2
}
